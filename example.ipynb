{
 "cells": [
  {
   "cell_type": "code",
   "execution_count": 1,
   "id": "6629e18f-221c-4db3-9307-8f5265c7e72c",
   "metadata": {},
   "outputs": [],
   "source": [
    "import numpy as np\n",
    "import pandas as pd\n",
    "import matplotlib.pyplot as plt\n",
    "import joblib"
   ]
  },
  {
   "cell_type": "code",
   "execution_count": 2,
   "id": "a6629aa6-7a53-4c7a-9396-b13dc7b94111",
   "metadata": {},
   "outputs": [],
   "source": [
    "model=joblib.load(\"alzheimers_model.pkl\")"
   ]
  },
  {
   "cell_type": "code",
   "execution_count": 3,
   "id": "7b75a198-a81d-44f7-ae43-ec7d9c67b773",
   "metadata": {},
   "outputs": [],
   "source": [
    "patient_data_1=pd.DataFrame([{\"FunctionalAssessment\":8, \"ADL\":7, \"MMSE\":25, \"MemoryComplaints\":0, \"BehavioralProblems\":0 }])\n",
    "patient_data_2=pd.DataFrame([{\"FunctionalAssessment\":4, \"ADL\":3, \"MMSE\":10, \"MemoryComplaints\":1, \"BehavioralProblems\":1 }])"
   ]
  },
  {
   "cell_type": "code",
   "execution_count": 4,
   "id": "c73b1ddf-ba82-4145-a7a8-93974f71b16e",
   "metadata": {},
   "outputs": [],
   "source": [
    "prediction=model.predict(patient_data_1)"
   ]
  },
  {
   "cell_type": "code",
   "execution_count": 5,
   "id": "50967f4a-d0a3-443e-b138-58101c9fd05a",
   "metadata": {},
   "outputs": [
    {
     "name": "stdout",
     "output_type": "stream",
     "text": [
      "Patient is unlikely to have Alzheimer's disease.\n",
      "Prediction confidence: [0]\n"
     ]
    }
   ],
   "source": [
    "if prediction == 1:\n",
    "    print(\"Patient may have Alzheimer's disease.\")\n",
    "else:\n",
    "    print(\"Patient is unlikely to have Alzheimer's disease.\")\n",
    "\n",
    "print(\"Prediction confidence:\", prediction)"
   ]
  },
  {
   "cell_type": "code",
   "execution_count": 6,
   "id": "bff55526-e851-4574-af6a-c762b704bac8",
   "metadata": {
    "scrolled": true
   },
   "outputs": [],
   "source": [
    "app_code=\"\"\"\n",
    "import streamlit as st\n",
    "import numpy as np\n",
    "import joblib\n",
    "\n",
    "model=joblib.load(\"alzheimers_model.pkl\")\n",
    "st.title(\"Alzheimer's Disease Prediction App\")\n",
    "st.write(\"Enter the patient data below to predict Alzheimer's Diagnosis.\")\n",
    "\n",
    "FunctionalAssessment=st.number_input(\"Functional Assessment Score\", min_value=0, key=\"fun_acc_input\") \n",
    "ADL=st.number_input(\"Activities of Daily Living score\", min_value=0, key=\"ADL_input\")\n",
    "MMSE=st.number_input(\"Mini-Mental State Examination score\", min_value=0.0, key=\"MMSE_input\")\n",
    "MemoryComplaints=st.radio(\" Presence of memory complaints\", [\"Yes\", \"No\"], key=\"mce_input\")\n",
    "MemoryComplaints_encoded= 1 if MemoryComplaints==\"Yes\" else 0\n",
    "BehavioralProblems=st.radio(\" Presence of behavioral problems\", [\"Yes\", \"No\"], key=\"bpe_input\")\n",
    "BehavioralProblems_encoded= 1 if BehavioralProblems==\"Yes\" else 0 \n",
    "\n",
    "input_data=np.array([[FunctionalAssessment, ADL, MMSE, MemoryComplaints_encoded, BehavioralProblems_encoded]])\n",
    "\n",
    "if st.button(\"Predict\"):\n",
    "    prediction=model.predict(input_data)[0]\n",
    "    st.success(f\"Prediction:{prediction}\")\n",
    "\"\"\""
   ]
  },
  {
   "cell_type": "code",
   "execution_count": 7,
   "id": "82dd5f5d-e062-443b-a1a7-ad58495318ef",
   "metadata": {},
   "outputs": [],
   "source": [
    "with open(\"app.py\", \"w\") as f:\n",
    "    f.write(app_code)\n"
   ]
  },
  {
   "cell_type": "code",
   "execution_count": 8,
   "id": "ec35a618-df21-4fa1-b349-9405dcb9e88c",
   "metadata": {},
   "outputs": [
    {
     "name": "stdout",
     "output_type": "stream",
     "text": [
      "\n",
      "import streamlit as st\n",
      "import numpy as np\n",
      "import joblib\n",
      "\n",
      "model=joblib.load(\"alzheimers_model.pkl\")\n",
      "st.title(\"Alzheimer's Disease Prediction App\")\n",
      "st.write(\"Enter the patient data below to predict Alzheimer's Diagnosis.\")\n",
      "\n",
      "FunctionalAssessment=st.number_input(\"Functional Assessment Score\", min_value=0, key=\"fun_acc_input\") \n",
      "ADL=st.number_input(\"Activities of Daily Living score\", min_value=0, key=\"ADL_input\")\n",
      "MMSE=st.number_input(\"Mini-Mental State Examination score\", min_value=0.0, key=\"MMSE_input\")\n",
      "MemoryComplaints=st.radio(\" Presence of memory complaints\", [\"Yes\", \"No\"], key=\"mce_input\")\n",
      "MemoryComplaints_encoded= 1 if MemoryComplaints==\"Yes\" else 0\n",
      "BehavioralProblems=st.radio(\" Presence of behavioral problems\", [\"Yes\", \"No\"], key=\"bpe_input\")\n",
      "BehavioralProblems_encoded= 1 if BehavioralProblems==\"Yes\" else 0 \n",
      "\n",
      "input_data=np.array([[FunctionalAssessment, ADL, MMSE, MemoryComplaints_encoded, BehavioralProblems_encoded]])\n",
      "\n",
      "if st.button(\"Predict\"):\n",
      "    prediction=model.predict(input_data)[0]\n",
      "    st.success(f\"Prediction:{prediction}\")\n",
      "\n"
     ]
    }
   ],
   "source": [
    "with open(\"app.py\") as f:\n",
    "    print(f.read())\n"
   ]
  },
  {
   "cell_type": "code",
   "execution_count": null,
   "id": "20bc8d3d-33e4-4919-aa81-2539219b4b99",
   "metadata": {},
   "outputs": [],
   "source": []
  }
 ],
 "metadata": {
  "kernelspec": {
   "display_name": "Python 3 (ipykernel)",
   "language": "python",
   "name": "python3"
  },
  "language_info": {
   "codemirror_mode": {
    "name": "ipython",
    "version": 3
   },
   "file_extension": ".py",
   "mimetype": "text/x-python",
   "name": "python",
   "nbconvert_exporter": "python",
   "pygments_lexer": "ipython3",
   "version": "3.13.2"
  }
 },
 "nbformat": 4,
 "nbformat_minor": 5
}
