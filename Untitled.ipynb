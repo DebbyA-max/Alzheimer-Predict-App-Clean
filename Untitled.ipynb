{
 "cells": [
  {
   "cell_type": "code",
   "execution_count": 1,
   "id": "2564d266-e078-43d4-8900-fa5d02f138d4",
   "metadata": {},
   "outputs": [
    {
     "ename": "SyntaxError",
     "evalue": "invalid syntax (2892353409.py, line 2)",
     "output_type": "error",
     "traceback": [
      "  \u001b[36mCell\u001b[39m\u001b[36m \u001b[39m\u001b[32mIn[1]\u001b[39m\u001b[32m, line 2\u001b[39m\n\u001b[31m    \u001b[39m\u001b[31m__pycache__/\u001b[39m\n                ^\n\u001b[31mSyntaxError\u001b[39m\u001b[31m:\u001b[39m invalid syntax\n"
     ]
    }
   ],
   "source": [
    "# Byte-compiled / cache\n",
    "__pycache__/\n",
    "*.py[cod]\n",
    "*.pyo\n",
    "\n",
    "# Virtual environment\n",
    "env/\n",
    "venv/\n",
    ".venv/\n",
    "\n",
    "# IDE settings\n",
    ".vscode/\n",
    ".idea/\n",
    "\n",
    "# Mac and Windows files\n",
    ".DS_Store\n",
    "Thumbs.db\n",
    "\n",
    "# Streamlit config\n",
    ".streamlit/secrets.toml\n",
    "\n",
    "# Python packages\n",
    "*.egg-info/\n",
    "*.egg\n",
    "*.whl\n",
    "dist/\n",
    "build/\n",
    "\n",
    "# Logs\n",
    "*.log\n"
   ]
  },
  {
   "cell_type": "code",
   "execution_count": null,
   "id": "97ad8ef8-fa19-46df-99bb-5c9775bef23e",
   "metadata": {},
   "outputs": [],
   "source": []
  }
 ],
 "metadata": {
  "kernelspec": {
   "display_name": "Python 3 (ipykernel)",
   "language": "python",
   "name": "python3"
  },
  "language_info": {
   "codemirror_mode": {
    "name": "ipython",
    "version": 3
   },
   "file_extension": ".py",
   "mimetype": "text/x-python",
   "name": "python",
   "nbconvert_exporter": "python",
   "pygments_lexer": "ipython3",
   "version": "3.13.2"
  }
 },
 "nbformat": 4,
 "nbformat_minor": 5
}
